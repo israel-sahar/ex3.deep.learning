{
  "nbformat": 4,
  "nbformat_minor": 0,
  "metadata": {
    "colab": {
      "name": "Ex3 - Multi-Class Text Classification.ipynb",
      "provenance": [],
      "collapsed_sections": []
    },
    "kernelspec": {
      "name": "python3",
      "display_name": "Python 3"
    },
    "language_info": {
      "name": "python"
    }
  },
  "cells": [
    {
      "cell_type": "markdown",
      "metadata": {
        "id": "A28tel0F9WXl"
      },
      "source": [
        "**Ex3 Multi-Class Text Classification in PyTorch using TorchText**\n",
        "\n",
        "Students:\n",
        "\n",
        "Sahar Israel - 205654536\n",
        "\n",
        "Avi Bechavod - 200675981\n",
        "\n",
        "Harel Yadaan - 207331125\n",
        "\n",
        "video:\n",
        "https://youtu.be/wFoRMcK-olU"
      ]
    },
    {
      "cell_type": "markdown",
      "metadata": {
        "id": "YRncEcXm-iTF"
      },
      "source": [
        "***Steps to Implement the Model:***"
      ]
    },
    {
      "cell_type": "markdown",
      "metadata": {
        "id": "G2ehdU4a-rlk"
      },
      "source": [
        "1. install the latest version of TorchText:"
      ]
    },
    {
      "cell_type": "code",
      "metadata": {
        "colab": {
          "base_uri": "https://localhost:8080/"
        },
        "id": "LvhFMtud9MKe",
        "outputId": "045bad68-7f90-4403-f438-3529a18e2570"
      },
      "source": [
        "!pip install torchtext==0.4\n"
      ],
      "execution_count": 1,
      "outputs": [
        {
          "output_type": "stream",
          "text": [
            "Requirement already satisfied: torchtext==0.4 in /usr/local/lib/python3.7/dist-packages (0.4.0)\n",
            "Requirement already satisfied: torch in /usr/local/lib/python3.7/dist-packages (from torchtext==0.4) (1.8.1+cu101)\n",
            "Requirement already satisfied: six in /usr/local/lib/python3.7/dist-packages (from torchtext==0.4) (1.15.0)\n",
            "Requirement already satisfied: requests in /usr/local/lib/python3.7/dist-packages (from torchtext==0.4) (2.23.0)\n",
            "Requirement already satisfied: tqdm in /usr/local/lib/python3.7/dist-packages (from torchtext==0.4) (4.41.1)\n",
            "Requirement already satisfied: numpy in /usr/local/lib/python3.7/dist-packages (from torchtext==0.4) (1.19.5)\n",
            "Requirement already satisfied: typing-extensions in /usr/local/lib/python3.7/dist-packages (from torch->torchtext==0.4) (3.7.4.3)\n",
            "Requirement already satisfied: certifi>=2017.4.17 in /usr/local/lib/python3.7/dist-packages (from requests->torchtext==0.4) (2020.12.5)\n",
            "Requirement already satisfied: urllib3!=1.25.0,!=1.25.1,<1.26,>=1.21.1 in /usr/local/lib/python3.7/dist-packages (from requests->torchtext==0.4) (1.24.3)\n",
            "Requirement already satisfied: idna<3,>=2.5 in /usr/local/lib/python3.7/dist-packages (from requests->torchtext==0.4) (2.10)\n",
            "Requirement already satisfied: chardet<4,>=3.0.2 in /usr/local/lib/python3.7/dist-packages (from requests->torchtext==0.4) (3.0.4)\n"
          ],
          "name": "stdout"
        }
      ]
    },
    {
      "cell_type": "markdown",
      "metadata": {
        "id": "1Yti49xb-xud"
      },
      "source": [
        "2. import all the required libraries:"
      ]
    },
    {
      "cell_type": "code",
      "metadata": {
        "id": "Xdz8-drZ-7yl"
      },
      "source": [
        "import torch\n",
        "import torchtext\n",
        "from torchtext.datasets import text_classification\n",
        "import os\n",
        "import torch.nn as nn\n",
        "import torch.nn.functional as F\n",
        "from torch.utils.data import DataLoader\n",
        "import time\n",
        "from torch.utils.data.dataset import random_split\n",
        "import re\n",
        "from torchtext.data.utils import ngrams_iterator\n",
        "from torchtext.data.utils import get_tokenizer\n",
        "import matplotlib.pyplot as plt\n"
      ],
      "execution_count": 24,
      "outputs": []
    },
    {
      "cell_type": "markdown",
      "metadata": {
        "id": "v1mrxWmmA5k1"
      },
      "source": [
        "3. define the ngrams and batch size:"
      ]
    },
    {
      "cell_type": "code",
      "metadata": {
        "id": "t9kwscWwA2Mn"
      },
      "source": [
        "NGRAMS =3\n",
        "BATCH_SIZE = 16"
      ],
      "execution_count": 3,
      "outputs": []
    },
    {
      "cell_type": "markdown",
      "metadata": {
        "id": "tGdTW2BQBL5W"
      },
      "source": [
        " 4. read the DBpedia dataset that is provided by the TorchText:"
      ]
    },
    {
      "cell_type": "code",
      "metadata": {
        "colab": {
          "base_uri": "https://localhost:8080/"
        },
        "id": "crXHhqxXBCg-",
        "outputId": "db2ff1f0-e936-4a5e-820f-4dfa930ed876"
      },
      "source": [
        "if not os.path.isdir('./.data'):\n",
        "    os.mkdir('./.data')\n",
        "train_dataset, test_dataset = text_classification.DATASETS['DBpedia'](\n",
        "    root='./.data', ngrams=NGRAMS, vocab=None)"
      ],
      "execution_count": 4,
      "outputs": [
        {
          "output_type": "stream",
          "text": [
            "560000lines [01:35, 5845.17lines/s]\n",
            "560000lines [02:50, 3276.50lines/s]\n",
            "70000lines [00:21, 3319.95lines/s]\n"
          ],
          "name": "stderr"
        }
      ]
    },
    {
      "cell_type": "markdown",
      "metadata": {
        "id": "_74PBpwjB1tD"
      },
      "source": [
        "5. verify the length and the number of labels of the downloaded dataset:"
      ]
    },
    {
      "cell_type": "code",
      "metadata": {
        "colab": {
          "base_uri": "https://localhost:8080/"
        },
        "id": "8_pIyDKpB-Mm",
        "outputId": "dfaab12a-72d1-45d4-9036-e45eae940269"
      },
      "source": [
        "print(len(train_dataset))\n",
        "print(len(test_dataset))"
      ],
      "execution_count": 5,
      "outputs": [
        {
          "output_type": "stream",
          "text": [
            "560000\n",
            "70000\n"
          ],
          "name": "stdout"
        }
      ]
    },
    {
      "cell_type": "code",
      "metadata": {
        "colab": {
          "base_uri": "https://localhost:8080/"
        },
        "id": "ja7NWMNZB_fu",
        "outputId": "fe6f00ed-af1f-42fd-f53b-8e84ffa78fe9"
      },
      "source": [
        "print(len(train_dataset.get_labels()))\n",
        "print(len(test_dataset.get_labels()))"
      ],
      "execution_count": 6,
      "outputs": [
        {
          "output_type": "stream",
          "text": [
            "14\n",
            "14\n"
          ],
          "name": "stdout"
        }
      ]
    },
    {
      "cell_type": "markdown",
      "metadata": {
        "id": "H4-s2doVCiHG"
      },
      "source": [
        "6. use the CUDA architecture to speed-up the runtime and execution."
      ]
    },
    {
      "cell_type": "code",
      "metadata": {
        "colab": {
          "base_uri": "https://localhost:8080/"
        },
        "id": "5PY5ewogCpQe",
        "outputId": "64ea7d41-16d5-451d-aded-158103b926aa"
      },
      "source": [
        "device = torch.device(\"cuda\" if torch.cuda.is_available() else \"cpu\")\n",
        "device"
      ],
      "execution_count": 7,
      "outputs": [
        {
          "output_type": "execute_result",
          "data": {
            "text/plain": [
              "device(type='cpu')"
            ]
          },
          "metadata": {
            "tags": []
          },
          "execution_count": 7
        }
      ]
    },
    {
      "cell_type": "markdown",
      "metadata": {
        "id": "9COJ_LxSDAzn"
      },
      "source": [
        "7. define the model for the classification."
      ]
    },
    {
      "cell_type": "code",
      "metadata": {
        "id": "OCBmedJrDPql"
      },
      "source": [
        "class TextSentiment(nn.Module):\n",
        "    def __init__(self, vocab_size, embed_dim, num_class):\n",
        "        super().__init__()\n",
        "        self.embedding = nn.EmbeddingBag(vocab_size, embed_dim, sparse=True)\n",
        "        self.fc = nn.Linear(embed_dim, num_class)\n",
        "        self.init_weights()\n",
        "\n",
        "    def init_weights(self):\n",
        "        initrange = 0.5\n",
        "        self.embedding.weight.data.uniform_(-initrange, initrange)\n",
        "        self.fc.weight.data.uniform_(-initrange, initrange)\n",
        "        self.fc.bias.data.zero_()\n",
        "\n",
        "    def forward(self, text, offsets):\n",
        "        embedded = self.embedding(text, offsets)\n",
        "        return self.fc(embedded)\n",
        "\n",
        "#print(TextSentiment())"
      ],
      "execution_count": 8,
      "outputs": []
    },
    {
      "cell_type": "markdown",
      "metadata": {
        "id": "vVtmFmJfMaot"
      },
      "source": [
        "8. initialize the hyperparameters and define the function to generate the training batch:"
      ]
    },
    {
      "cell_type": "code",
      "metadata": {
        "colab": {
          "base_uri": "https://localhost:8080/"
        },
        "id": "pZ3zOeuhMdZE",
        "outputId": "8cf50209-533e-46d9-dd07-e71f5a93df87"
      },
      "source": [
        "VOCAB_SIZE = len(train_dataset.get_vocab())\n",
        "EMBED_DIM = 32\n",
        "NUN_CLASS = len(train_dataset.get_labels())\n",
        "model = TextSentiment(VOCAB_SIZE, EMBED_DIM, NUN_CLASS).to(device)\n",
        "\n",
        "def generate_batch(batch):\n",
        "    label = torch.tensor([entry[0] for entry in batch])\n",
        "    text = [entry[1] for entry in batch]\n",
        "    offsets = [0] + [len(entry) for entry in text]\n",
        "    offsets = torch.tensor(offsets[:-1]).cumsum(dim=0)\n",
        "    text = torch.cat(text)\n",
        "    return text, offsets, label\n",
        "\n",
        "print(model)"
      ],
      "execution_count": 9,
      "outputs": [
        {
          "output_type": "stream",
          "text": [
            "TextSentiment(\n",
            "  (embedding): EmbeddingBag(19008016, 32, mode=mean)\n",
            "  (fc): Linear(in_features=32, out_features=14, bias=True)\n",
            ")\n"
          ],
          "name": "stdout"
        }
      ]
    },
    {
      "cell_type": "markdown",
      "metadata": {
        "id": "aZ-fwpOHM9Dc"
      },
      "source": [
        "9. define the function to train and test the model:"
      ]
    },
    {
      "cell_type": "code",
      "metadata": {
        "id": "cdA6T-wVNDbj"
      },
      "source": [
        "def train_func(sub_train_):\n",
        "\n",
        "    # Train the model\n",
        "    train_loss = 0\n",
        "    train_acc = 0\n",
        "    data = DataLoader(sub_train_, batch_size=BATCH_SIZE, shuffle=True,\n",
        "                      collate_fn=generate_batch)\n",
        "    for i, (text, offsets, cls) in enumerate(data):\n",
        "        optimizer.zero_grad()\n",
        "        text, offsets, cls = text.to(device), offsets.to(device), cls.to(device)\n",
        "        output = model(text, offsets)\n",
        "        loss = criterion(output, cls)\n",
        "        train_loss += loss.item()\n",
        "        loss.backward()\n",
        "        optimizer.step()\n",
        "        train_acc += (output.argmax(1) == cls).sum().item()\n",
        "\n",
        "    # Adjust the learning rate\n",
        "    scheduler.step()\n",
        "\n",
        "    return train_loss / len(sub_train_), train_acc / len(sub_train_)\n",
        "\n",
        "def test(data_):\n",
        "    loss = 0\n",
        "    acc = 0\n",
        "    data = DataLoader(data_, batch_size=BATCH_SIZE, collate_fn=generate_batch)\n",
        "    for text, offsets, cls in data:\n",
        "        text, offsets, cls = text.to(device), offsets.to(device), cls.to(device)\n",
        "        with torch.no_grad():\n",
        "            output = model(text, offsets)\n",
        "            loss = criterion(output, cls)\n",
        "            loss += loss.item()\n",
        "            acc += (output.argmax(1) == cls).sum().item()\n",
        "\n",
        "    return loss / len(data_), acc / len(data_)"
      ],
      "execution_count": 10,
      "outputs": []
    },
    {
      "cell_type": "markdown",
      "metadata": {
        "id": "afxx5ByZOD6N"
      },
      "source": [
        "10. train the model in 5 epochs:"
      ]
    },
    {
      "cell_type": "code",
      "metadata": {
        "colab": {
          "base_uri": "https://localhost:8080/"
        },
        "id": "uxY1xV2jOMk1",
        "outputId": "f772d69e-f677-4589-ee51-a943a596f212"
      },
      "source": [
        "N_EPOCHS = 5\n",
        "min_valid_loss = float('inf')\n",
        "\n",
        "criterion = torch.nn.CrossEntropyLoss().to(device)\n",
        "optimizer = torch.optim.SGD(model.parameters(), lr=4.0)\n",
        "scheduler = torch.optim.lr_scheduler.StepLR(optimizer, 1, gamma=0.9)\n",
        "\n",
        "train_len = int(len(train_dataset) * 0.95)\n",
        "sub_train_, sub_valid_ = \\\n",
        "    random_split(train_dataset, [train_len, len(train_dataset) - train_len])\n",
        "history  =[]\n",
        "for epoch in range(N_EPOCHS):\n",
        "\n",
        "    start_time = time.time()\n",
        "    train_loss, train_acc = train_func(sub_train_)\n",
        "    valid_loss, valid_acc = test(sub_valid_)\n",
        "    history+=[train_loss,valid_loss]\n",
        "    secs = int(time.time() - start_time)\n",
        "    mins = secs / 60\n",
        "    secs = secs % 60\n",
        "\n",
        "    print('Epoch: %d' %(epoch + 1), \" | time in %d minutes, %d seconds\" %(mins, secs))\n",
        "    print(f'\\tLoss: {train_loss:.4f}(train)\\t|\\tAcc: {train_acc * 100:.1f}%(train)')\n",
        "    print(f'\\tLoss: {valid_loss:.4f}(valid)\\t|\\tAcc: {valid_acc * 100:.1f}%(valid)')"
      ],
      "execution_count": 11,
      "outputs": [
        {
          "output_type": "stream",
          "text": [
            "Epoch: 1  | time in 3 minutes, 39 seconds\n",
            "\tLoss: 0.0098(train)\t|\tAcc: 95.6%(train)\n",
            "\tLoss: 0.0000(valid)\t|\tAcc: 98.0%(valid)\n",
            "Epoch: 2  | time in 2 minutes, 48 seconds\n",
            "\tLoss: 0.0022(train)\t|\tAcc: 99.1%(train)\n",
            "\tLoss: 0.0000(valid)\t|\tAcc: 98.3%(valid)\n",
            "Epoch: 3  | time in 2 minutes, 50 seconds\n",
            "\tLoss: 0.0010(train)\t|\tAcc: 99.7%(train)\n",
            "\tLoss: 0.0000(valid)\t|\tAcc: 98.3%(valid)\n",
            "Epoch: 4  | time in 2 minutes, 49 seconds\n",
            "\tLoss: 0.0005(train)\t|\tAcc: 99.9%(train)\n",
            "\tLoss: 0.0000(valid)\t|\tAcc: 98.4%(valid)\n",
            "Epoch: 5  | time in 2 minutes, 49 seconds\n",
            "\tLoss: 0.0003(train)\t|\tAcc: 100.0%(train)\n",
            "\tLoss: 0.0000(valid)\t|\tAcc: 98.4%(valid)\n"
          ],
          "name": "stdout"
        }
      ]
    },
    {
      "cell_type": "markdown",
      "metadata": {
        "id": "Y9E1jJe0RDuP"
      },
      "source": [
        " 11. test our model on the test data set and check the accuracy of the model:"
      ]
    },
    {
      "cell_type": "code",
      "metadata": {
        "colab": {
          "base_uri": "https://localhost:8080/"
        },
        "id": "RebP7TB2RKZM",
        "outputId": "1c578af1-b7ee-41ee-e101-bf8389d010f8"
      },
      "source": [
        "print('Checking the results of test dataset...')\n",
        "test_loss, test_acc = test(test_dataset)\n",
        "print(f'\\tLoss: {test_loss:.4f}(test)\\t|\\tAcc: {test_acc * 100:.1f}%(test)')"
      ],
      "execution_count": 12,
      "outputs": [
        {
          "output_type": "stream",
          "text": [
            "Checking the results of test dataset...\n",
            "\tLoss: 0.0000(test)\t|\tAcc: 94.7%(test)\n"
          ],
          "name": "stdout"
        }
      ]
    },
    {
      "cell_type": "markdown",
      "metadata": {
        "id": "cWK7rk-fRmxe"
      },
      "source": [
        "12. test our model on individual news text strings and predict the class label for that given news text:"
      ]
    },
    {
      "cell_type": "code",
      "metadata": {
        "id": "RmzNXmKCRxl2"
      },
      "source": [
        "DBpedia_label = {0: 'Company',\n",
        "                1: 'EducationalInstitution',\n",
        "                2: 'Artist',\n",
        "                3: 'Athlete',\n",
        "                4: 'OfficeHolder',\n",
        "                5: 'MeanOfTransportation',\n",
        "                6: 'Building',\n",
        "                7: 'NaturalPlace',\n",
        "                8: 'Village',\n",
        "                9: 'Animal',\n",
        "                10: 'Plant',\n",
        "                11: 'Album',\n",
        "                12: 'Film',\n",
        "                13: 'WrittenWork'}\n",
        "\n",
        "def predict(text, model, vocab, ngrams):\n",
        "    tokenizer = get_tokenizer(\"basic_english\")\n",
        "    with torch.no_grad():\n",
        "        text = torch.tensor([vocab[token]\n",
        "                            for token in ngrams_iterator(tokenizer(text), ngrams)])\n",
        "        output = model(text, torch.tensor([0]))\n",
        "        return output.argmax(1).item() + 1\n",
        "vocab = train_dataset.get_vocab()\n",
        "model = model.to(\"cpu\")"
      ],
      "execution_count": 13,
      "outputs": []
    },
    {
      "cell_type": "markdown",
      "metadata": {
        "id": "-BkjbUPGSZfI"
      },
      "source": [
        "13. we will take some random texts from the test data and check the predicted class label.\n",
        "\n",
        "First prediction:"
      ]
    },
    {
      "cell_type": "code",
      "metadata": {
        "colab": {
          "base_uri": "https://localhost:8080/"
        },
        "id": "DOuURs9MSbfO",
        "outputId": "727daf54-84d8-4db2-a9a7-6cf05274ac74"
      },
      "source": [
        "ex_text_str = \"Brekke Church (Norwegian: Brekke kyrkje) is a parish church in Gulen Municipality in Sogn og Fjordane county, Norway. It is located in the village of Brekke. The church is part of the Brekke parish in the Nordhordland deanery in the Diocese of BjÃ¸rgvin. The white, wooden church, which has 390 seats, was consecrated on 19 November 1862 by the local Dean Thomas Erichsen. The architect Christian Henrik Grosch made the designs for the church, which is the third church on the site.\"\n",
        "\n",
        "print(\"This is a %s class\" %DBpedia_label[predict(ex_text_str, model, vocab, 2)])\n"
      ],
      "execution_count": 14,
      "outputs": [
        {
          "output_type": "stream",
          "text": [
            "This is a NaturalPlace class\n"
          ],
          "name": "stdout"
        }
      ]
    },
    {
      "cell_type": "markdown",
      "metadata": {
        "id": "LNwa7d4JT4rO"
      },
      "source": [
        "Second Prediction:"
      ]
    },
    {
      "cell_type": "code",
      "metadata": {
        "colab": {
          "base_uri": "https://localhost:8080/"
        },
        "id": "Tfr4_JfsT7s2",
        "outputId": "2cc2d34c-62bd-4241-9a1e-b223093ab1a1"
      },
      "source": [
        "ex_text_str2 = \"Cerithiella superba is a species of very small sea snail, a marine gastropod mollusk in the family Newtoniellidae. This species is known from European waters. It was described by Thiele, 1912.\"\n",
        "\n",
        "print(\"This text belongs to %s class\" %DBpedia_label[predict(ex_text_str2, model, vocab, 2)])"
      ],
      "execution_count": 15,
      "outputs": [
        {
          "output_type": "stream",
          "text": [
            "This text belongs to Plant class\n"
          ],
          "name": "stdout"
        }
      ]
    },
    {
      "cell_type": "markdown",
      "metadata": {
        "id": "EDmps7fYUicu"
      },
      "source": [
        "Third Prediction:"
      ]
    },
    {
      "cell_type": "code",
      "metadata": {
        "colab": {
          "base_uri": "https://localhost:8080/"
        },
        "id": "cVZF0ESmUjPO",
        "outputId": "bf524221-47d7-43aa-be6e-5971852d686d"
      },
      "source": [
        "ex_text_str3 = \"  Nithari is a village in the western part of the state of Uttar Pradesh India bordering on New Delhi. Nithari forms part of the New Okhla Industrial Development Authority's planned industrial city Noida falling in Sector 31. Nithari made international news headlines in December 2006 when the skeletons of a number of apparently murdered women and children were unearthed in the village.\"\n",
        "\n",
        "print(\"This text belongs to %s class\" %DBpedia_label[predict(ex_text_str3, model, vocab, 2)])\n"
      ],
      "execution_count": 16,
      "outputs": [
        {
          "output_type": "stream",
          "text": [
            "This text belongs to Animal class\n"
          ],
          "name": "stdout"
        }
      ]
    },
    {
      "cell_type": "markdown",
      "metadata": {
        "id": "RFwFiY9jYQWQ"
      },
      "source": [
        "**Our Predictions:**"
      ]
    },
    {
      "cell_type": "markdown",
      "metadata": {
        "id": "pwE1lQ7BYWLJ"
      },
      "source": [
        "First Prediction:"
      ]
    },
    {
      "cell_type": "code",
      "metadata": {
        "colab": {
          "base_uri": "https://localhost:8080/"
        },
        "id": "1DMq8e-9Ya2W",
        "outputId": "fb4f8560-e269-4ed3-d60d-d0b3759952f2"
      },
      "source": [
        "\n",
        "ex_text_str4 = \" A frog is any member of a diverse and largely carnivorous group of short-bodied, tailless amphibians composing the order Anura.\"\n",
        "\n",
        "print(\"This text belongs to %s class\" %DBpedia_label[predict(ex_text_str4, model, vocab, 2)])"
      ],
      "execution_count": 17,
      "outputs": [
        {
          "output_type": "stream",
          "text": [
            "This text belongs to Plant class\n"
          ],
          "name": "stdout"
        }
      ]
    },
    {
      "cell_type": "code",
      "metadata": {
        "colab": {
          "base_uri": "https://localhost:8080/",
          "height": 295
        },
        "id": "MW6hiPCNpG4i",
        "outputId": "c8c15323-cdca-45b3-943a-e42aa23cc56e"
      },
      "source": [
        "def plot_loss(histroy):\n",
        "  train_loss =history[0:9:2]\n",
        "  val_loss =history[1:10:2]\n",
        "  plt.plot(val_loss, \"-rx\")\n",
        "  plt.plot(train_loss, \"-bx\")\n",
        "  plt.title(\"Loss vs. number of epochs\")\n",
        "  plt.legend([\"Validation loss\", \"Training loss\"])\n",
        "  plt.xlabel(\"Epochs\")\n",
        "  plt.ylabel(\"Loss\")\n",
        "\n",
        "plot_loss(history)"
      ],
      "execution_count": 25,
      "outputs": [
        {
          "output_type": "display_data",
          "data": {
            "image/png": "[encoded data removed]",
            "text/plain": [
              "<Figure size 432x288 with 1 Axes>"
            ]
          },
          "metadata": {
            "tags": [],
            "needs_background": "light"
          }
        }
      ]
    }
  ]
}